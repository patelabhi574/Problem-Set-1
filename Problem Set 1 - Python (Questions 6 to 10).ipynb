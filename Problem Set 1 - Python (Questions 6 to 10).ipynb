{
 "cells": [
  {
   "cell_type": "markdown",
   "id": "b2a15a43",
   "metadata": {},
   "source": [
    "Question 6 Python"
   ]
  },
  {
   "cell_type": "code",
   "execution_count": 2,
   "id": "ebfa6488",
   "metadata": {},
   "outputs": [
    {
     "name": "stdout",
     "output_type": "stream",
     "text": [
      "appyhay\n",
      "enterway\n"
     ]
    }
   ],
   "source": [
    "def pig(word: str):\n",
    "    word = word.lower()\n",
    "    vowels = ['a', 'e', 'i', 'o', 'u']\n",
    "    if word[0] in vowels:\n",
    "        word += 'way'\n",
    "    else:\n",
    "        word = word[1:] + word[0] + 'ay'\n",
    "    return word\n",
    "\n",
    "print(pig('happy'))\n",
    "print(pig('Enter'))\n"
   ]
  },
  {
   "cell_type": "markdown",
   "id": "115c2c0c",
   "metadata": {},
   "source": [
    "Question 7 Python"
   ]
  },
  {
   "cell_type": "code",
   "execution_count": 3,
   "id": "fad148e3",
   "metadata": {},
   "outputs": [
    {
     "name": "stdout",
     "output_type": "stream",
     "text": [
      "There are 13 patients of blood type AB\n",
      "There is one patient of blood type B\n",
      "There are 15 patients of blood type O\n",
      "There are 15 patients of blood type A\n"
     ]
    }
   ],
   "source": [
    "def bldcount(filename: str):\n",
    "    with open(filename) as bloodtypefile:\n",
    "        bloodtypes = bloodtypefile.readlines()\n",
    "        valid_bloodtypes = ['A', 'B', 'AB', 'O', 'OO']\n",
    "        file_data = list()\n",
    "        for line in bloodtypes:\n",
    "            for word in line.split(' '):\n",
    "                if word in valid_bloodtypes:\n",
    "                    file_data.append(word)\n",
    "        word_frequency = dict()\n",
    "        for word in file_data:\n",
    "            if word in word_frequency:\n",
    "                word_frequency[word] += 1\n",
    "            else:\n",
    "                word_frequency[word] = 1\n",
    "        for word, word_freq in word_frequency.items():\n",
    "            if word_freq == 0:\n",
    "                print(f'There are no patients of blood type {word}')\n",
    "            elif word_freq == 1:\n",
    "                print(f'There is one patient of blood type {word}')\n",
    "            else:\n",
    "                print(f'There are {word_freq} patients of blood type {word}')\n",
    "\n",
    "\n",
    "if __name__ == '__main__':\n",
    "    bldcount('blood txt.txt')\n"
   ]
  },
  {
   "cell_type": "markdown",
   "id": "e2af1018",
   "metadata": {},
   "source": [
    "Question 8 Python"
   ]
  },
  {
   "cell_type": "code",
   "execution_count": 4,
   "id": "379f01e1",
   "metadata": {},
   "outputs": [
    {
     "name": "stdout",
     "output_type": "stream",
     "text": [
      "Please enter the currency (for example, AUD for Australian dollar): AUD\n",
      "Please enter an amount to convert to USD: 10\n",
      "curconv(AUD, 10.0) = 10.345157\n"
     ]
    }
   ],
   "source": [
    "def curconv(curr: str, amt: float):\n",
    "    curr = curr.upper()\n",
    "    with open('currencies txt data.txt') as currrates:\n",
    "        rate = float()\n",
    "        for line in currrates.readlines():\n",
    "            if curr in line:\n",
    "                rate = float(line.split('\\t')[1])\n",
    "        return amt * rate\n",
    "\n",
    "\n",
    "if __name__ == '__main__':\n",
    "        curr = input('Please enter the currency (for example, AUD for Australian dollar): ')\n",
    "        amt = float(input('Please enter an amount to convert to USD: '))\n",
    "        print(f'curconv({curr}, {amt}) = {curconv(curr, amt)}')\n",
    "\n"
   ]
  },
  {
   "cell_type": "markdown",
   "id": "a1ab14ca",
   "metadata": {},
   "source": [
    "Question 9 Python"
   ]
  },
  {
   "cell_type": "code",
   "execution_count": 5,
   "id": "09dd653d",
   "metadata": {},
   "outputs": [
    {
     "name": "stdout",
     "output_type": "stream",
     "text": [
      "1: TypeError\n",
      "2: IndexError\n",
      "3: ValueError\n",
      "4: NameError\n",
      "5: FileNotFoundError\n"
     ]
    }
   ],
   "source": [
    "if __name__ == '__main__':\n",
    "    print('1: TypeError')\n",
    "    print('2: IndexError')\n",
    "    print('3: ValueError')\n",
    "    print('4: NameError')\n",
    "    print('5: FileNotFoundError')\n",
    "    "
   ]
  },
  {
   "cell_type": "markdown",
   "id": "84647af9",
   "metadata": {},
   "source": [
    "Question 10 Python"
   ]
  },
  {
   "cell_type": "code",
   "execution_count": 1,
   "id": "3e2fa365",
   "metadata": {},
   "outputs": [
    {
     "name": "stdout",
     "output_type": "stream",
     "text": [
      "[1, 1, 1, 3, 5, 1, 1, 2, 1, 0, 1, 0, 1, 2, 4, 0, 1, 2, 0, 3, 1, 0, 1, 1, 0, 0]\n",
      "[1, 0, 0, 0, 1, 0, 0, 0, 0, 0, 0, 1, 0, 0, 0, 2, 0, 0, 0, 0, 0, 0, 0, 0, 0, 0]\n"
     ]
    }
   ],
   "source": [
    "def frequencies(string: str):\n",
    "    letters = 'abcdefghijklmnopqrstuvwxyz'\n",
    "    letter_frequency = dict()\n",
    "    for letter in letters:\n",
    "        letter_frequency[letter] = 0\n",
    "    for letter in string.lower():\n",
    "        if letter in letter_frequency:\n",
    "            letter_frequency[letter] += 1\n",
    "        else:\n",
    "            pass\n",
    "    return list(letter_frequency.values())\n",
    "\n",
    "\n",
    "if __name__ == '__main__':\n",
    "        string = 'The quick red fox got bored and went home.'\n",
    "        print(frequencies(string))\n",
    "        string = 'Apple'\n",
    "        print(frequencies(string))\n"
   ]
  },
  {
   "cell_type": "code",
   "execution_count": null,
   "id": "1813c453",
   "metadata": {},
   "outputs": [],
   "source": []
  }
 ],
 "metadata": {
  "kernelspec": {
   "display_name": "Python 3 (ipykernel)",
   "language": "python",
   "name": "python3"
  },
  "language_info": {
   "codemirror_mode": {
    "name": "ipython",
    "version": 3
   },
   "file_extension": ".py",
   "mimetype": "text/x-python",
   "name": "python",
   "nbconvert_exporter": "python",
   "pygments_lexer": "ipython3",
   "version": "3.11.1"
  }
 },
 "nbformat": 4,
 "nbformat_minor": 5
}
